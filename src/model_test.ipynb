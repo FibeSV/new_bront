{
 "cells": [
  {
   "cell_type": "code",
   "execution_count": 16,
   "metadata": {},
   "outputs": [],
   "source": [
    "import numpy as np\n",
    "\n",
    "import datagenerator\n",
    "import warnings\n",
    "import os\n",
    "\n",
    "import seaborn as sns\n",
    "from matplotlib import pyplot as plt\n",
    "\n",
    "\n",
    "from sklearn.preprocessing import StandardScaler\n",
    "from librosa.core.spectrum import  util\n",
    "\n",
    "import torch\n",
    "from torch import nn\n",
    "from torch.nn import functional as F\n",
    "\n",
    "from torch.utils.data import TensorDataset, DataLoader\n",
    "import os\n",
    "\n",
    "import pandas as pd\n",
    "from skimage import io, transform\n",
    "import numpy as np\n",
    "import matplotlib.pyplot as plt\n",
    "import seaborn as sns\n",
    "\n",
    "\n",
    "import torch\n",
    "from torch import nn, optim\n",
    "import torch.nn.functional as F\n",
    "\n",
    "import librosa\n",
    "from joblib import dump, load"
   ]
  },
  {
   "cell_type": "code",
   "execution_count": 17,
   "metadata": {},
   "outputs": [],
   "source": [
    "path = \"../archive/\"\n",
    "set_a_timing = pd.read_csv(\"../archive\\set_a_timing.csv\")\n",
    "set_a_label = pd.read_csv(\"../archive\\set_a.csv\")\n",
    "set_a_timing[\"location\"] = set_a_timing[\"location\"]*160//441"
   ]
  },
  {
   "cell_type": "code",
   "execution_count": 28,
   "metadata": {},
   "outputs": [
    {
     "data": {
      "text/plain": [
       "device(type='cpu')"
      ]
     },
     "execution_count": 28,
     "metadata": {},
     "output_type": "execute_result"
    }
   ],
   "source": [
    "batch_size = 64\n",
    "mfcc_hop = 512\n",
    "mfcc_frame = 2048\n",
    "n_mfcc = 15\n",
    "sr = 16000\n",
    "n_win = 18\n",
    "n_hop = 1\n",
    "device = torch.device(\"cuda\") if torch.cuda.is_available() else torch.device(\"cpu\")\n",
    "device"
   ]
  },
  {
   "cell_type": "code",
   "execution_count": 66,
   "metadata": {},
   "outputs": [],
   "source": [
    "\n",
    "def frame_to_pcm(x):\n",
    "    return (((x)*n_hop + n_win) * mfcc_hop + mfcc_frame)\n",
    "\n",
    "def frame_to_sec(x):\n",
    "    return frame_to_pcm(x)/sr"
   ]
  },
  {
   "cell_type": "code",
   "execution_count": 41,
   "metadata": {},
   "outputs": [
    {
     "data": {
      "text/html": [
       "<div>\n",
       "<style scoped>\n",
       "    .dataframe tbody tr th:only-of-type {\n",
       "        vertical-align: middle;\n",
       "    }\n",
       "\n",
       "    .dataframe tbody tr th {\n",
       "        vertical-align: top;\n",
       "    }\n",
       "\n",
       "    .dataframe thead th {\n",
       "        text-align: right;\n",
       "    }\n",
       "</style>\n",
       "<table border=\"1\" class=\"dataframe\">\n",
       "  <thead>\n",
       "    <tr style=\"text-align: right;\">\n",
       "      <th></th>\n",
       "      <th>fname</th>\n",
       "      <th>cycle</th>\n",
       "      <th>sound</th>\n",
       "      <th>location</th>\n",
       "    </tr>\n",
       "  </thead>\n",
       "  <tbody>\n",
       "    <tr>\n",
       "      <th>0</th>\n",
       "      <td>set_a/normal__201102081321.wav</td>\n",
       "      <td>1</td>\n",
       "      <td>S1</td>\n",
       "      <td>3635</td>\n",
       "    </tr>\n",
       "    <tr>\n",
       "      <th>1</th>\n",
       "      <td>set_a/normal__201102081321.wav</td>\n",
       "      <td>1</td>\n",
       "      <td>S2</td>\n",
       "      <td>7531</td>\n",
       "    </tr>\n",
       "    <tr>\n",
       "      <th>2</th>\n",
       "      <td>set_a/normal__201102081321.wav</td>\n",
       "      <td>2</td>\n",
       "      <td>S1</td>\n",
       "      <td>12725</td>\n",
       "    </tr>\n",
       "    <tr>\n",
       "      <th>3</th>\n",
       "      <td>set_a/normal__201102081321.wav</td>\n",
       "      <td>2</td>\n",
       "      <td>S2</td>\n",
       "      <td>17140</td>\n",
       "    </tr>\n",
       "    <tr>\n",
       "      <th>4</th>\n",
       "      <td>set_a/normal__201102081321.wav</td>\n",
       "      <td>3</td>\n",
       "      <td>S1</td>\n",
       "      <td>22854</td>\n",
       "    </tr>\n",
       "    <tr>\n",
       "      <th>5</th>\n",
       "      <td>set_a/normal__201102081321.wav</td>\n",
       "      <td>3</td>\n",
       "      <td>S2</td>\n",
       "      <td>26749</td>\n",
       "    </tr>\n",
       "    <tr>\n",
       "      <th>6</th>\n",
       "      <td>set_a/normal__201102081321.wav</td>\n",
       "      <td>4</td>\n",
       "      <td>S1</td>\n",
       "      <td>32203</td>\n",
       "    </tr>\n",
       "    <tr>\n",
       "      <th>7</th>\n",
       "      <td>set_a/normal__201102081321.wav</td>\n",
       "      <td>4</td>\n",
       "      <td>S2</td>\n",
       "      <td>36878</td>\n",
       "    </tr>\n",
       "    <tr>\n",
       "      <th>8</th>\n",
       "      <td>set_a/normal__201102081321.wav</td>\n",
       "      <td>5</td>\n",
       "      <td>S1</td>\n",
       "      <td>41812</td>\n",
       "    </tr>\n",
       "    <tr>\n",
       "      <th>9</th>\n",
       "      <td>set_a/normal__201102081321.wav</td>\n",
       "      <td>5</td>\n",
       "      <td>S2</td>\n",
       "      <td>46227</td>\n",
       "    </tr>\n",
       "    <tr>\n",
       "      <th>10</th>\n",
       "      <td>set_a/normal__201102081321.wav</td>\n",
       "      <td>6</td>\n",
       "      <td>S1</td>\n",
       "      <td>51941</td>\n",
       "    </tr>\n",
       "    <tr>\n",
       "      <th>11</th>\n",
       "      <td>set_a/normal__201102081321.wav</td>\n",
       "      <td>6</td>\n",
       "      <td>S2</td>\n",
       "      <td>55836</td>\n",
       "    </tr>\n",
       "    <tr>\n",
       "      <th>12</th>\n",
       "      <td>set_a/normal__201102081321.wav</td>\n",
       "      <td>7</td>\n",
       "      <td>S1</td>\n",
       "      <td>61030</td>\n",
       "    </tr>\n",
       "    <tr>\n",
       "      <th>13</th>\n",
       "      <td>set_a/normal__201102081321.wav</td>\n",
       "      <td>7</td>\n",
       "      <td>S2</td>\n",
       "      <td>65445</td>\n",
       "    </tr>\n",
       "    <tr>\n",
       "      <th>14</th>\n",
       "      <td>set_a/normal__201102081321.wav</td>\n",
       "      <td>8</td>\n",
       "      <td>S1</td>\n",
       "      <td>70899</td>\n",
       "    </tr>\n",
       "    <tr>\n",
       "      <th>15</th>\n",
       "      <td>set_a/normal__201102081321.wav</td>\n",
       "      <td>8</td>\n",
       "      <td>S2</td>\n",
       "      <td>74795</td>\n",
       "    </tr>\n",
       "    <tr>\n",
       "      <th>16</th>\n",
       "      <td>set_a/normal__201102081321.wav</td>\n",
       "      <td>9</td>\n",
       "      <td>S1</td>\n",
       "      <td>79989</td>\n",
       "    </tr>\n",
       "    <tr>\n",
       "      <th>17</th>\n",
       "      <td>set_a/normal__201102081321.wav</td>\n",
       "      <td>9</td>\n",
       "      <td>S2</td>\n",
       "      <td>84144</td>\n",
       "    </tr>\n",
       "    <tr>\n",
       "      <th>18</th>\n",
       "      <td>set_a/normal__201102081321.wav</td>\n",
       "      <td>10</td>\n",
       "      <td>S1</td>\n",
       "      <td>98688</td>\n",
       "    </tr>\n",
       "    <tr>\n",
       "      <th>19</th>\n",
       "      <td>set_a/normal__201102081321.wav</td>\n",
       "      <td>10</td>\n",
       "      <td>S2</td>\n",
       "      <td>102843</td>\n",
       "    </tr>\n",
       "    <tr>\n",
       "      <th>20</th>\n",
       "      <td>set_a/normal__201102081321.wav</td>\n",
       "      <td>11</td>\n",
       "      <td>S1</td>\n",
       "      <td>108037</td>\n",
       "    </tr>\n",
       "    <tr>\n",
       "      <th>21</th>\n",
       "      <td>set_a/normal__201102081321.wav</td>\n",
       "      <td>11</td>\n",
       "      <td>S2</td>\n",
       "      <td>112193</td>\n",
       "    </tr>\n",
       "    <tr>\n",
       "      <th>22</th>\n",
       "      <td>set_a/normal__201102081321.wav</td>\n",
       "      <td>12</td>\n",
       "      <td>S1</td>\n",
       "      <td>117646</td>\n",
       "    </tr>\n",
       "    <tr>\n",
       "      <th>23</th>\n",
       "      <td>set_a/normal__201102081321.wav</td>\n",
       "      <td>12</td>\n",
       "      <td>S2</td>\n",
       "      <td>121542</td>\n",
       "    </tr>\n",
       "    <tr>\n",
       "      <th>24</th>\n",
       "      <td>set_a/normal__201102260502.wav</td>\n",
       "      <td>1</td>\n",
       "      <td>S1</td>\n",
       "      <td>4181</td>\n",
       "    </tr>\n",
       "    <tr>\n",
       "      <th>25</th>\n",
       "      <td>set_a/normal__201102260502.wav</td>\n",
       "      <td>1</td>\n",
       "      <td>S2</td>\n",
       "      <td>10137</td>\n",
       "    </tr>\n",
       "  </tbody>\n",
       "</table>\n",
       "</div>"
      ],
      "text/plain": [
       "                             fname  cycle sound  location\n",
       "0   set_a/normal__201102081321.wav      1    S1      3635\n",
       "1   set_a/normal__201102081321.wav      1    S2      7531\n",
       "2   set_a/normal__201102081321.wav      2    S1     12725\n",
       "3   set_a/normal__201102081321.wav      2    S2     17140\n",
       "4   set_a/normal__201102081321.wav      3    S1     22854\n",
       "5   set_a/normal__201102081321.wav      3    S2     26749\n",
       "6   set_a/normal__201102081321.wav      4    S1     32203\n",
       "7   set_a/normal__201102081321.wav      4    S2     36878\n",
       "8   set_a/normal__201102081321.wav      5    S1     41812\n",
       "9   set_a/normal__201102081321.wav      5    S2     46227\n",
       "10  set_a/normal__201102081321.wav      6    S1     51941\n",
       "11  set_a/normal__201102081321.wav      6    S2     55836\n",
       "12  set_a/normal__201102081321.wav      7    S1     61030\n",
       "13  set_a/normal__201102081321.wav      7    S2     65445\n",
       "14  set_a/normal__201102081321.wav      8    S1     70899\n",
       "15  set_a/normal__201102081321.wav      8    S2     74795\n",
       "16  set_a/normal__201102081321.wav      9    S1     79989\n",
       "17  set_a/normal__201102081321.wav      9    S2     84144\n",
       "18  set_a/normal__201102081321.wav     10    S1     98688\n",
       "19  set_a/normal__201102081321.wav     10    S2    102843\n",
       "20  set_a/normal__201102081321.wav     11    S1    108037\n",
       "21  set_a/normal__201102081321.wav     11    S2    112193\n",
       "22  set_a/normal__201102081321.wav     12    S1    117646\n",
       "23  set_a/normal__201102081321.wav     12    S2    121542\n",
       "24  set_a/normal__201102260502.wav      1    S1      4181\n",
       "25  set_a/normal__201102260502.wav      1    S2     10137"
      ]
     },
     "execution_count": 41,
     "metadata": {},
     "output_type": "execute_result"
    }
   ],
   "source": [
    "set_a_timing.head(26)"
   ]
  },
  {
   "cell_type": "code",
   "execution_count": 35,
   "metadata": {},
   "outputs": [
    {
     "name": "stderr",
     "output_type": "stream",
     "text": [
      "C:\\Users\\slowm\\AppData\\Local\\Packages\\PythonSoftwareFoundation.Python.3.8_qbz5n2kfra8p0\\LocalCache\\local-packages\\Python38\\site-packages\\librosa\\util\\utils.py:204: UserWarning: librosa.util.frame called with axis=0 on a non-contiguous input. This will result in a copy.\n",
      "  warnings.warn(\n"
     ]
    },
    {
     "data": {
      "text/plain": [
       "(226, 18, 15)"
      ]
     },
     "execution_count": 35,
     "metadata": {},
     "output_type": "execute_result"
    }
   ],
   "source": [
    "files = set_a_timing[\"fname\"].unique()\n",
    "test = np.zeros([0,n_win,n_mfcc])\n",
    "sscaler = load(\"std_scaler.bin\")\n",
    "for fname in files[:1]:\n",
    "    x, _ = librosa.load(path+fname, sr=16000)\n",
    "    mfccs = librosa.feature.mfcc(x, sr =sr, n_mfcc=n_mfcc, hop_length=mfcc_hop, win_length=mfcc_frame, n_mels=n_mfcc, center=False).T\n",
    "    mfccs = sscaler.transform(mfccs)\n",
    "    mfccs_frame = util.frame(mfccs, frame_length=n_win, hop_length=n_hop, axis =0)\n",
    "    test = np.append(test,mfccs_frame, axis=0)\n",
    "target_test = np.zeros(test.shape[0])\n",
    "test.shape"
   ]
  },
  {
   "cell_type": "code",
   "execution_count": 36,
   "metadata": {},
   "outputs": [],
   "source": [
    "X_val_t =  torch.FloatTensor(test)[:,None,:,:]\n",
    "y_val_t =  torch.Tensor(target_test).type(torch.LongTensor)\n",
    "val_dataset = TensorDataset(X_val_t, y_val_t)\n",
    "valid_dataloader = DataLoader(val_dataset, batch_size=batch_size, shuffle=False)"
   ]
  },
  {
   "cell_type": "code",
   "execution_count": 32,
   "metadata": {},
   "outputs": [
    {
     "data": {
      "text/plain": [
       "<torch.utils.data.dataloader.DataLoader at 0x26133d009d0>"
      ]
     },
     "execution_count": 32,
     "metadata": {},
     "output_type": "execute_result"
    }
   ],
   "source": [
    "valid_dataloader"
   ]
  },
  {
   "cell_type": "code",
   "execution_count": 37,
   "metadata": {},
   "outputs": [],
   "source": [
    "import torch.nn.functional as F \n",
    "\n",
    "class LeNet(nn.Module):\n",
    "    def __init__(self):\n",
    "        super(LeNet, self).__init__()\n",
    "        self.conv1 = nn.Conv2d(in_channels=1, out_channels=10, kernel_size=3)\n",
    "        self.pool = nn.MaxPool2d(kernel_size=2, stride=1)\n",
    "        self.conv2 = nn.Conv2d(in_channels=10, out_channels=20, kernel_size=3)\n",
    "        self.fc1 = nn.Linear(20 * 12 * 9, 120)  # !!!\n",
    "        self.fc2 = nn.Linear(120, 84)\n",
    "        self.fc3 = nn.Linear(84, 2)\n",
    "\n",
    "    def forward(self, x):\n",
    "        x = self.pool(F.relu(self.conv1(x)))\n",
    "        x = self.pool(F.relu(self.conv2(x)))\n",
    "        #print(x.shape)\n",
    "        x = x.view(-1, 20 * 12 * 9)  # !!!\n",
    "        x = F.relu(self.fc1(x))\n",
    "        x = F.relu(self.fc2(x))\n",
    "        x = self.fc3(x)\n",
    "        return x"
   ]
  },
  {
   "cell_type": "code",
   "execution_count": 38,
   "metadata": {},
   "outputs": [
    {
     "data": {
      "text/plain": [
       "<All keys matched successfully>"
      ]
     },
     "execution_count": 38,
     "metadata": {},
     "output_type": "execute_result"
    }
   ],
   "source": [
    "model = LeNet().to(device)\n",
    "model.load_state_dict(torch.load('Net_181121.pth'))"
   ]
  },
  {
   "cell_type": "code",
   "execution_count": 39,
   "metadata": {},
   "outputs": [],
   "source": [
    "def evaluate(model, valid_dataloader):\n",
    "    model.eval()\n",
    "    prediction = np.array([])\n",
    "    with torch.no_grad():\n",
    "        for xb, yb in valid_dataloader:\n",
    "            xb, yb = xb.to(device), yb.to(device)\n",
    "\n",
    "            probs = model(xb)\n",
    "\n",
    "            _, preds = torch.max(probs, axis=-1)\n",
    "            prediction = np.append(prediction, preds.numpy())\n",
    "    print(\"prediction:\")\n",
    "    print(np.sum([prediction[i]!=prediction[i+1] for i in range(prediction.shape[0]-1)])/2)\n",
    "    print(prediction.sum())\n",
    "    return prediction"
   ]
  },
  {
   "cell_type": "code",
   "execution_count": 44,
   "metadata": {},
   "outputs": [
    {
     "name": "stdout",
     "output_type": "stream",
     "text": [
      "prediction:\n",
      "13.0\n",
      "176.0\n"
     ]
    }
   ],
   "source": [
    "prediction = evaluate(model, valid_dataloader)"
   ]
  },
  {
   "cell_type": "code",
   "execution_count": 67,
   "metadata": {},
   "outputs": [],
   "source": [
    "def frame_analyse(marks):\n",
    "    hbflag = False\n",
    "    hb_start = []\n",
    "    hb_end = []\n",
    "    for k,mark in enumerate(marks):\n",
    "        if mark:\n",
    "            if hbflag==False:\n",
    "                hb_start.append(k)\n",
    "            hbflag = True\n",
    "        elif hbflag:\n",
    "            hb_end.append(k)\n",
    "            hbflag = False\n",
    "    if hbflag:\n",
    "            hb_end.append(k)\n",
    "            hbflag = False\n",
    "    return hb_start,hb_end\n",
    "def func(prediction):\n",
    "    starts, ends = frame_analyse(prediction)\n",
    "    frame_pred = pd.DataFrame({\"starts\":starts,\"ends\":ends})\n",
    "    frame_pred[\"duration\"] = frame_pred[\"ends\"]-frame_pred[\"starts\"]\n",
    "    frame_pred[\"durpcm\"] = (frame_pred[\"duration\"]-1)*mfcc_hop + mfcc_frame\n",
    "    frame_pred[\"dursec\"] = frame_pred[\"durpcm\"]/sr\n",
    "    return frame_pred\n",
    "\n",
    "def funcb(df):\n",
    "    starts = (np.array(df[\"location\"][::2])-mfcc_frame)/mfcc_hop+1\n",
    "    ends = (np.array(df[\"location\"][1::2])-mfcc_frame)/mfcc_hop+1\n",
    "    frame_pred = pd.DataFrame({\"starts\":starts,\"ends\":ends})\n",
    "    frame_pred[\"duration\"] = frame_pred[\"ends\"]-frame_pred[\"starts\"]\n",
    "    frame_pred[\"durpcm\"] = (frame_pred[\"duration\"]-1)*mfcc_hop + mfcc_frame\n",
    "    frame_pred[\"dursec\"] = frame_pred[\"durpcm\"]/sr\n",
    "    return frame_pred"
   ]
  },
  {
   "cell_type": "code",
   "execution_count": 68,
   "metadata": {},
   "outputs": [],
   "source": [
    "df = func(prediction)\n",
    "df_true = funcb(set_a_timing[set_a_timing[\"fname\"]=='set_a/normal__201102081321.wav'])"
   ]
  },
  {
   "cell_type": "code",
   "execution_count": 69,
   "metadata": {},
   "outputs": [
    {
     "data": {
      "text/html": [
       "<div>\n",
       "<style scoped>\n",
       "    .dataframe tbody tr th:only-of-type {\n",
       "        vertical-align: middle;\n",
       "    }\n",
       "\n",
       "    .dataframe tbody tr th {\n",
       "        vertical-align: top;\n",
       "    }\n",
       "\n",
       "    .dataframe thead th {\n",
       "        text-align: right;\n",
       "    }\n",
       "</style>\n",
       "<table border=\"1\" class=\"dataframe\">\n",
       "  <thead>\n",
       "    <tr style=\"text-align: right;\">\n",
       "      <th></th>\n",
       "      <th>starts</th>\n",
       "      <th>ends</th>\n",
       "      <th>duration</th>\n",
       "      <th>durpcm</th>\n",
       "      <th>dursec</th>\n",
       "    </tr>\n",
       "  </thead>\n",
       "  <tbody>\n",
       "    <tr>\n",
       "      <th>0</th>\n",
       "      <td>0</td>\n",
       "      <td>4</td>\n",
       "      <td>4</td>\n",
       "      <td>3584</td>\n",
       "      <td>0.224</td>\n",
       "    </tr>\n",
       "    <tr>\n",
       "      <th>1</th>\n",
       "      <td>7</td>\n",
       "      <td>22</td>\n",
       "      <td>15</td>\n",
       "      <td>9216</td>\n",
       "      <td>0.576</td>\n",
       "    </tr>\n",
       "    <tr>\n",
       "      <th>2</th>\n",
       "      <td>26</td>\n",
       "      <td>42</td>\n",
       "      <td>16</td>\n",
       "      <td>9728</td>\n",
       "      <td>0.608</td>\n",
       "    </tr>\n",
       "    <tr>\n",
       "      <th>3</th>\n",
       "      <td>45</td>\n",
       "      <td>60</td>\n",
       "      <td>15</td>\n",
       "      <td>9216</td>\n",
       "      <td>0.576</td>\n",
       "    </tr>\n",
       "    <tr>\n",
       "      <th>4</th>\n",
       "      <td>63</td>\n",
       "      <td>79</td>\n",
       "      <td>16</td>\n",
       "      <td>9728</td>\n",
       "      <td>0.608</td>\n",
       "    </tr>\n",
       "  </tbody>\n",
       "</table>\n",
       "</div>"
      ],
      "text/plain": [
       "   starts  ends  duration  durpcm  dursec\n",
       "0       0     4         4    3584   0.224\n",
       "1       7    22        15    9216   0.576\n",
       "2      26    42        16    9728   0.608\n",
       "3      45    60        15    9216   0.576\n",
       "4      63    79        16    9728   0.608"
      ]
     },
     "execution_count": 69,
     "metadata": {},
     "output_type": "execute_result"
    }
   ],
   "source": [
    "df.head()"
   ]
  },
  {
   "cell_type": "code",
   "execution_count": 70,
   "metadata": {},
   "outputs": [
    {
     "data": {
      "text/html": [
       "<div>\n",
       "<style scoped>\n",
       "    .dataframe tbody tr th:only-of-type {\n",
       "        vertical-align: middle;\n",
       "    }\n",
       "\n",
       "    .dataframe tbody tr th {\n",
       "        vertical-align: top;\n",
       "    }\n",
       "\n",
       "    .dataframe thead th {\n",
       "        text-align: right;\n",
       "    }\n",
       "</style>\n",
       "<table border=\"1\" class=\"dataframe\">\n",
       "  <thead>\n",
       "    <tr style=\"text-align: right;\">\n",
       "      <th></th>\n",
       "      <th>starts</th>\n",
       "      <th>ends</th>\n",
       "      <th>duration</th>\n",
       "      <th>durpcm</th>\n",
       "      <th>dursec</th>\n",
       "    </tr>\n",
       "  </thead>\n",
       "  <tbody>\n",
       "    <tr>\n",
       "      <th>0</th>\n",
       "      <td>4.099609</td>\n",
       "      <td>11.708984</td>\n",
       "      <td>7.609375</td>\n",
       "      <td>5432.0</td>\n",
       "      <td>0.339500</td>\n",
       "    </tr>\n",
       "    <tr>\n",
       "      <th>1</th>\n",
       "      <td>21.853516</td>\n",
       "      <td>30.476562</td>\n",
       "      <td>8.623047</td>\n",
       "      <td>5951.0</td>\n",
       "      <td>0.371937</td>\n",
       "    </tr>\n",
       "    <tr>\n",
       "      <th>2</th>\n",
       "      <td>41.636719</td>\n",
       "      <td>49.244141</td>\n",
       "      <td>7.607422</td>\n",
       "      <td>5431.0</td>\n",
       "      <td>0.339438</td>\n",
       "    </tr>\n",
       "    <tr>\n",
       "      <th>3</th>\n",
       "      <td>59.896484</td>\n",
       "      <td>69.027344</td>\n",
       "      <td>9.130859</td>\n",
       "      <td>6211.0</td>\n",
       "      <td>0.388188</td>\n",
       "    </tr>\n",
       "    <tr>\n",
       "      <th>4</th>\n",
       "      <td>78.664062</td>\n",
       "      <td>87.287109</td>\n",
       "      <td>8.623047</td>\n",
       "      <td>5951.0</td>\n",
       "      <td>0.371937</td>\n",
       "    </tr>\n",
       "  </tbody>\n",
       "</table>\n",
       "</div>"
      ],
      "text/plain": [
       "      starts       ends  duration  durpcm    dursec\n",
       "0   4.099609  11.708984  7.609375  5432.0  0.339500\n",
       "1  21.853516  30.476562  8.623047  5951.0  0.371937\n",
       "2  41.636719  49.244141  7.607422  5431.0  0.339438\n",
       "3  59.896484  69.027344  9.130859  6211.0  0.388188\n",
       "4  78.664062  87.287109  8.623047  5951.0  0.371937"
      ]
     },
     "execution_count": 70,
     "metadata": {},
     "output_type": "execute_result"
    }
   ],
   "source": [
    "df_true.head()"
   ]
  },
  {
   "cell_type": "code",
   "execution_count": 65,
   "metadata": {},
   "outputs": [
    {
     "data": {
      "text/plain": [
       "(array([   0,  512, 1024, 1536, 2048, 2560, 3072, 3584, 4096, 4608]),\n",
       " array([11264, 11776, 12288, 12800, 13312, 13824, 14336, 14848, 15360,\n",
       "        15872]),\n",
       " array([11264, 11776, 12288, 12800, 13312, 13824, 14336, 14848, 15360,\n",
       "        15872]))"
      ]
     },
     "execution_count": 65,
     "metadata": {},
     "output_type": "execute_result"
    }
   ],
   "source": [
    "ar = np.arange(16000)\n",
    "mfc = np.zeros([0,2])\n",
    "frame = np.zeros([0,2])\n",
    "start, end = ar[::mfcc_hop], ar[mfcc_frame::mfcc_hop]\n",
    "end = end[n_win::n_hop]\n",
    "start = start[:end.shape[0]]\n",
    "start, end, frame_to_pcm(np.arange(10))"
   ]
  }
 ],
 "metadata": {
  "interpreter": {
   "hash": "e10189f69497984ae32766c8b3b0734fa56fa2267028b6ab7e9da2a4b4a2b777"
  },
  "kernelspec": {
   "display_name": "Python 3.8.10 64-bit (windows store)",
   "language": "python",
   "name": "python3"
  },
  "language_info": {
   "codemirror_mode": {
    "name": "ipython",
    "version": 3
   },
   "file_extension": ".py",
   "mimetype": "text/x-python",
   "name": "python",
   "nbconvert_exporter": "python",
   "pygments_lexer": "ipython3",
   "version": "3.8.10"
  },
  "orig_nbformat": 4
 },
 "nbformat": 4,
 "nbformat_minor": 2
}
