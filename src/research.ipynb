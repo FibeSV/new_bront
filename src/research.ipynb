{
 "cells": [
  {
   "cell_type": "code",
   "execution_count": 26,
   "source": [
    "import datagenerator\r\n",
    "import warnings\r\n",
    "import os\r\n",
    "warnings.filterwarnings('ignore')\r\n",
    "from sklearn.neighbors import KNeighborsClassifier\r\n",
    "import keras\r\n",
    "from keras.models import Sequential\r\n",
    "from keras.layers import Dense, Dropout, Flatten\r\n",
    "from sklearn.model_selection import train_test_split\r\n",
    "import pandas as pd\r\n",
    "import numpy as np"
   ],
   "outputs": [],
   "metadata": {}
  },
  {
   "cell_type": "code",
   "execution_count": null,
   "source": [],
   "outputs": [],
   "metadata": {}
  },
  {
   "cell_type": "code",
   "execution_count": 2,
   "source": [
    "n_mfcc = 15\r\n",
    "sr = 16000\r\n",
    "n_win = 24\r\n",
    "n_hop = 1"
   ],
   "outputs": [],
   "metadata": {}
  },
  {
   "cell_type": "code",
   "execution_count": 3,
   "source": [
    "os.listdir('/Users/slowm/OneDrive/Desktop/new_bront/data/marks')"
   ],
   "outputs": [
    {
     "output_type": "execute_result",
     "data": {
      "text/plain": [
       "['chips__mark.txt',\n",
       " 'clear_1__mark.txt',\n",
       " 'clear__mark.txt',\n",
       " 'fast__mark.txt',\n",
       " 'music__mark.txt',\n",
       " 'speak__mark.txt',\n",
       " 'sport__mark.txt']"
      ]
     },
     "metadata": {},
     "execution_count": 3
    }
   ],
   "metadata": {}
  },
  {
   "cell_type": "code",
   "execution_count": 4,
   "source": [
    "dg = datagenerator.DataGenerator(1,24,16000)\r\n",
    "feat, target = dg._get_data('/Users/slowm/OneDrive/Desktop/new_bront/data/wav/clear.wav', '/Users/slowm/OneDrive/Desktop/new_bront/data/marks/clear__mark.txt', True, True)\r\n",
    "den = dg.features_preporation(datagenerator._from_denis('/Users/slowm/OneDrive/Desktop/new_bront/RES (9).txt'),flat=True)\r\n",
    "model = KNeighborsClassifier(n_neighbors=3)\r\n",
    "datagenerator.model_test(model, den, feat, target)"
   ],
   "outputs": [
    {
     "output_type": "stream",
     "name": "stdout",
     "text": [
      "              precision    recall  f1-score   support\n",
      "\n",
      "         0.0       0.96      0.96      0.96       224\n",
      "         1.0       0.94      0.94      0.94       165\n",
      "\n",
      "    accuracy                           0.95       389\n",
      "   macro avg       0.95      0.95      0.95       389\n",
      "weighted avg       0.95      0.95      0.95       389\n",
      "\n",
      "              precision    recall  f1-score   support\n",
      "\n",
      "         0.0       0.73      0.75      0.74       224\n",
      "         1.0       0.65      0.63      0.64       165\n",
      "\n",
      "    accuracy                           0.70       389\n",
      "   macro avg       0.69      0.69      0.69       389\n",
      "weighted avg       0.70      0.70      0.70       389\n",
      "\n"
     ]
    }
   ],
   "metadata": {}
  },
  {
   "cell_type": "code",
   "execution_count": 30,
   "source": [
    "model_NN = Sequential()\r\n",
    "#model_NN.add(Flatten())\r\n",
    "model_NN.add(Dense(n_mfcc*n_win,keras.activations.relu ))\r\n",
    "model_NN.add(Dropout(0.4))\r\n",
    "model_NN.add(Dense(120,keras.activations.relu ))\r\n",
    "model_NN.add(Dropout(0.4))\r\n",
    "model_NN.add(Dense(2,keras.activations.softmax ))\r\n",
    "model_NN.compile(loss= keras.losses.categorical_crossentropy,optimizer = keras.optimizers.adam_v2.Adam(),\r\n",
    "                 metrics=['acc'])"
   ],
   "outputs": [],
   "metadata": {}
  },
  {
   "cell_type": "code",
   "execution_count": 12,
   "source": [
    "feat.shape, target.shape"
   ],
   "outputs": [
    {
     "output_type": "execute_result",
     "data": {
      "text/plain": [
       "((1944, 360), (1944,))"
      ]
     },
     "metadata": {},
     "execution_count": 12
    }
   ],
   "metadata": {}
  },
  {
   "cell_type": "code",
   "execution_count": 28,
   "source": [
    "trg = pd.DataFrame()\r\n",
    "trg [\"heart_beat\"]=target.reshape([-1])==True\r\n",
    "trg [\"else\"]=target.reshape([-1])==False\r\n",
    "np.array(trg )"
   ],
   "outputs": [
    {
     "output_type": "execute_result",
     "data": {
      "text/plain": [
       "array([[ True, False],\n",
       "       [ True, False],\n",
       "       [ True, False],\n",
       "       ...,\n",
       "       [ True, False],\n",
       "       [ True, False],\n",
       "       [ True, False]])"
      ]
     },
     "metadata": {},
     "execution_count": 28
    }
   ],
   "metadata": {}
  },
  {
   "cell_type": "code",
   "execution_count": 32,
   "source": [
    "model_NN.fit(feat, trg, batch_size=50,  epochs=30)"
   ],
   "outputs": [
    {
     "output_type": "stream",
     "name": "stdout",
     "text": [
      "Epoch 1/30\n",
      "39/39 [==============================] - 0s 2ms/step - loss: 0.6914 - acc: 0.5458\n",
      "Epoch 2/30\n",
      "39/39 [==============================] - 0s 2ms/step - loss: 0.6860 - acc: 0.5468\n",
      "Epoch 3/30\n",
      "39/39 [==============================] - 0s 2ms/step - loss: 0.6858 - acc: 0.5525\n",
      "Epoch 4/30\n",
      "39/39 [==============================] - 0s 2ms/step - loss: 0.6778 - acc: 0.5802\n",
      "Epoch 5/30\n",
      "39/39 [==============================] - 0s 2ms/step - loss: 0.6768 - acc: 0.5725\n",
      "Epoch 6/30\n",
      "39/39 [==============================] - 0s 2ms/step - loss: 0.6715 - acc: 0.5952\n",
      "Epoch 7/30\n",
      "39/39 [==============================] - 0s 2ms/step - loss: 0.6710 - acc: 0.5952\n",
      "Epoch 8/30\n",
      "39/39 [==============================] - 0s 2ms/step - loss: 0.6497 - acc: 0.6193\n",
      "Epoch 9/30\n",
      "39/39 [==============================] - 0s 2ms/step - loss: 0.6115 - acc: 0.6636\n",
      "Epoch 10/30\n",
      "39/39 [==============================] - 0s 2ms/step - loss: 0.5963 - acc: 0.6816\n",
      "Epoch 11/30\n",
      "39/39 [==============================] - 0s 2ms/step - loss: 0.5472 - acc: 0.7392\n",
      "Epoch 12/30\n",
      "39/39 [==============================] - 0s 2ms/step - loss: 0.4853 - acc: 0.7855\n",
      "Epoch 13/30\n",
      "39/39 [==============================] - 0s 2ms/step - loss: 0.4534 - acc: 0.8071\n",
      "Epoch 14/30\n",
      "39/39 [==============================] - 0s 2ms/step - loss: 0.4891 - acc: 0.7659\n",
      "Epoch 15/30\n",
      "39/39 [==============================] - 0s 2ms/step - loss: 0.4414 - acc: 0.8066\n",
      "Epoch 16/30\n",
      "39/39 [==============================] - 0s 2ms/step - loss: 0.4141 - acc: 0.8148\n",
      "Epoch 17/30\n",
      "39/39 [==============================] - 0s 2ms/step - loss: 0.4181 - acc: 0.8164\n",
      "Epoch 18/30\n",
      "39/39 [==============================] - 0s 2ms/step - loss: 0.4294 - acc: 0.8128\n",
      "Epoch 19/30\n",
      "39/39 [==============================] - 0s 2ms/step - loss: 0.4138 - acc: 0.8246\n",
      "Epoch 20/30\n",
      "39/39 [==============================] - 0s 2ms/step - loss: 0.4651 - acc: 0.7850\n",
      "Epoch 21/30\n",
      "39/39 [==============================] - 0s 2ms/step - loss: 0.4750 - acc: 0.7773\n",
      "Epoch 22/30\n",
      "39/39 [==============================] - 0s 2ms/step - loss: 0.4701 - acc: 0.7896\n",
      "Epoch 23/30\n",
      "39/39 [==============================] - 0s 2ms/step - loss: 0.4658 - acc: 0.7948\n",
      "Epoch 24/30\n",
      "39/39 [==============================] - 0s 2ms/step - loss: 0.4742 - acc: 0.7814\n",
      "Epoch 25/30\n",
      "39/39 [==============================] - 0s 2ms/step - loss: 0.4677 - acc: 0.7850\n",
      "Epoch 26/30\n",
      "39/39 [==============================] - 0s 2ms/step - loss: 0.4627 - acc: 0.7876\n",
      "Epoch 27/30\n",
      "39/39 [==============================] - 0s 2ms/step - loss: 0.4464 - acc: 0.8097\n",
      "Epoch 28/30\n",
      "39/39 [==============================] - 0s 2ms/step - loss: 0.4398 - acc: 0.7953\n",
      "Epoch 29/30\n",
      "39/39 [==============================] - 0s 2ms/step - loss: 0.4280 - acc: 0.8117\n",
      "Epoch 30/30\n",
      "39/39 [==============================] - 0s 2ms/step - loss: 0.4422 - acc: 0.7917\n"
     ]
    },
    {
     "output_type": "execute_result",
     "data": {
      "text/plain": [
       "<keras.callbacks.History at 0x20d32263be0>"
      ]
     },
     "metadata": {},
     "execution_count": 32
    }
   ],
   "metadata": {}
  },
  {
   "cell_type": "code",
   "execution_count": 33,
   "source": [
    "model_NN.save('/Users/slowm/OneDrive/Desktop/new_bront/models/nn.h5')"
   ],
   "outputs": [],
   "metadata": {}
  },
  {
   "cell_type": "code",
   "execution_count": 34,
   "source": [
    "os.listdir('./models')"
   ],
   "outputs": [
    {
     "output_type": "error",
     "ename": "FileNotFoundError",
     "evalue": "[WinError 3] Системе не удается найти указанный путь: './models'",
     "traceback": [
      "\u001b[1;31m---------------------------------------------------------------------------\u001b[0m",
      "\u001b[1;31mFileNotFoundError\u001b[0m                         Traceback (most recent call last)",
      "\u001b[1;32m~\\AppData\\Local\\Temp/ipykernel_15396/2586965024.py\u001b[0m in \u001b[0;36m<module>\u001b[1;34m\u001b[0m\n\u001b[1;32m----> 1\u001b[1;33m \u001b[0mos\u001b[0m\u001b[1;33m.\u001b[0m\u001b[0mlistdir\u001b[0m\u001b[1;33m(\u001b[0m\u001b[1;34m'./models'\u001b[0m\u001b[1;33m)\u001b[0m\u001b[1;33m\u001b[0m\u001b[1;33m\u001b[0m\u001b[0m\n\u001b[0m",
      "\u001b[1;31mFileNotFoundError\u001b[0m: [WinError 3] Системе не удается найти указанный путь: './models'"
     ]
    }
   ],
   "metadata": {}
  }
 ],
 "metadata": {
  "orig_nbformat": 4,
  "language_info": {
   "name": "python",
   "version": "3.8.10",
   "mimetype": "text/x-python",
   "codemirror_mode": {
    "name": "ipython",
    "version": 3
   },
   "pygments_lexer": "ipython3",
   "nbconvert_exporter": "python",
   "file_extension": ".py"
  },
  "kernelspec": {
   "name": "python3",
   "display_name": "Python 3.8.10 64-bit (windows store)"
  },
  "interpreter": {
   "hash": "e10189f69497984ae32766c8b3b0734fa56fa2267028b6ab7e9da2a4b4a2b777"
  }
 },
 "nbformat": 4,
 "nbformat_minor": 2
}