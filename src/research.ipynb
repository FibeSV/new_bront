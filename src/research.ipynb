{
 "cells": [
  {
   "cell_type": "code",
   "execution_count": 6,
   "metadata": {},
   "outputs": [],
   "source": [
    "import datagenerator\n",
    "import warnings\n",
    "import os\n",
    "warnings.filterwarnings('ignore')\n",
    "from sklearn.neighbors import KNeighborsClassifier\n",
    "import keras\n",
    "from keras.models import Sequential\n",
    "from keras.layers import Dense, Dropout, Flatten\n",
    "from sklearn.model_selection import train_test_split\n",
    "import pandas as pd\n",
    "import numpy as np\n",
    "from librosa.core.spectrum import  util\n",
    "from sklearn.preprocessing import StandardScaler\n",
    "from sklearn.pipeline import Pipeline\n",
    "from sklearn.model_selection import GridSearchCV"
   ]
  },
  {
   "cell_type": "code",
   "execution_count": 2,
   "metadata": {},
   "outputs": [],
   "source": [
    "n_mfcc = 15\n",
    "sr = 16000\n",
    "n_win = 24\n",
    "n_hop = 1"
   ]
  },
  {
   "cell_type": "code",
   "execution_count": 3,
   "metadata": {},
   "outputs": [
    {
     "ename": "NameError",
     "evalue": "name 'np' is not defined",
     "output_type": "error",
     "traceback": [
      "\u001b[1;31m---------------------------------------------------------------------------\u001b[0m",
      "\u001b[1;31mNameError\u001b[0m                                 Traceback (most recent call last)",
      "\u001b[1;32m~\\AppData\\Local\\Temp/ipykernel_6820/4251568391.py\u001b[0m in \u001b[0;36m<module>\u001b[1;34m\u001b[0m\n\u001b[1;32m----> 1\u001b[1;33m \u001b[0mfiles\u001b[0m \u001b[1;33m=\u001b[0m \u001b[0mnp\u001b[0m\u001b[1;33m.\u001b[0m\u001b[0marray\u001b[0m\u001b[1;33m(\u001b[0m\u001b[0mos\u001b[0m\u001b[1;33m.\u001b[0m\u001b[0mlistdir\u001b[0m\u001b[1;33m(\u001b[0m\u001b[1;34m'../data_denis'\u001b[0m\u001b[1;33m)\u001b[0m\u001b[1;33m)\u001b[0m\u001b[1;33m\u001b[0m\u001b[1;33m\u001b[0m\u001b[0m\n\u001b[0m",
      "\u001b[1;31mNameError\u001b[0m: name 'np' is not defined"
     ]
    }
   ],
   "source": [
    "files = np.array(os.listdir('../data_denis'))"
   ]
  },
  {
   "cell_type": "code",
   "execution_count": 9,
   "metadata": {},
   "outputs": [
    {
     "name": "stdout",
     "output_type": "stream",
     "text": [
      "chips.txt True (1938, 24, 15) (1938,)\n",
      "clear.TXT True (3882, 24, 15) (3882,)\n",
      "clear_1.txt True (4799, 24, 15) (4799,)\n",
      "fast.txt True (6724, 24, 15) (6724,)\n",
      "music.txt True (10379, 24, 15) (10379,)\n",
      "speak.txt True (12957, 24, 15) (12957,)\n"
     ]
    }
   ],
   "source": [
    "dg = datagenerator.DataGenerator(1,24,16000)\n",
    "features = np.zeros([0,24,15])\n",
    "target = np.zeros([0])\n",
    "sscaler = StandardScaler()\n",
    "for name in files[:-1]:\n",
    "    mfccs = datagenerator._from_denis('../data_denis/'+name)\n",
    "    mfccs = sscaler.fit_transform(mfccs)\n",
    "    mfccs_frame = util.frame(mfccs, frame_length=n_win, hop_length=n_hop, axis =0)\n",
    "    features = np.append(features,mfccs_frame, axis=0)\n",
    "    target = np.append(target, dg._get_target('../data/marks/'+name[:-4]+'__mark.txt', mfccs_frame.shape[0]*512+26*512))\n",
    "    print(name, target.shape[0]== features.shape[0], features.shape, target.shape)\n",
    "features_f = np.array([x.flatten() for x in features])"
   ]
  },
  {
   "cell_type": "code",
   "execution_count": 8,
   "metadata": {},
   "outputs": [
    {
     "name": "stdout",
     "output_type": "stream",
     "text": [
      "sport.txt\n"
     ]
    }
   ],
   "source": [
    "test = np.zeros([0,24,15])\n",
    "target_test = np.zeros([0])\n",
    "for name in files[-1:]:\n",
    "    print(name)\n",
    "    mfccs = datagenerator._from_denis('../data_denis/'+name)\n",
    "    mfccs = sscaler.transform(mfccs)\n",
    "    mfccs_frame = util.frame(mfccs, frame_length=n_win, hop_length=n_hop, axis =0)\n",
    "    test = np.append(test,mfccs_frame, axis=0)\n",
    "    target_test = np.append(target_test, dg._get_target('../data/marks/'+name[:-4]+'__mark.txt', mfccs_frame.shape[0]*512+26*512))\n",
    "test_f = np.array([x.flatten() for x in test])"
   ]
  },
  {
   "cell_type": "code",
   "execution_count": 2,
   "metadata": {},
   "outputs": [
    {
     "ename": "NameError",
     "evalue": "name 'sscaler' is not defined",
     "output_type": "error",
     "traceback": [
      "\u001b[1;31m---------------------------------------------------------------------------\u001b[0m",
      "\u001b[1;31mNameError\u001b[0m                                 Traceback (most recent call last)",
      "\u001b[1;32m~\\AppData\\Local\\Temp/ipykernel_6820/103627771.py\u001b[0m in \u001b[0;36m<module>\u001b[1;34m\u001b[0m\n\u001b[0;32m      1\u001b[0m \u001b[1;32mfrom\u001b[0m \u001b[0mjoblib\u001b[0m \u001b[1;32mimport\u001b[0m \u001b[0mdump\u001b[0m\u001b[1;33m,\u001b[0m \u001b[0mload\u001b[0m\u001b[1;33m\u001b[0m\u001b[1;33m\u001b[0m\u001b[0m\n\u001b[1;32m----> 2\u001b[1;33m \u001b[0mdump\u001b[0m\u001b[1;33m(\u001b[0m\u001b[0msscaler\u001b[0m\u001b[1;33m,\u001b[0m \u001b[1;34m'std_scaler.bin'\u001b[0m\u001b[1;33m,\u001b[0m \u001b[0mcompress\u001b[0m\u001b[1;33m=\u001b[0m\u001b[1;32mTrue\u001b[0m\u001b[1;33m)\u001b[0m\u001b[1;33m\u001b[0m\u001b[1;33m\u001b[0m\u001b[0m\n\u001b[0m",
      "\u001b[1;31mNameError\u001b[0m: name 'sscaler' is not defined"
     ]
    }
   ],
   "source": []
  },
  {
   "cell_type": "code",
   "execution_count": 56,
   "metadata": {},
   "outputs": [
    {
     "data": {
      "text/plain": [
       "({'metric': 'chebyshev', 'n_neighbors': 1}, 0.6046036296860624)"
      ]
     },
     "execution_count": 56,
     "metadata": {},
     "output_type": "execute_result"
    }
   ],
   "source": [
    "param = {'n_neighbors': range(1,3), 'metric':['chebyshev']}\n",
    "knn = GridSearchCV(KNeighborsClassifier(), param, scoring='f1')\n",
    "knn.fit(features_f, target)\n",
    "prediction = knn.predict(test_f)\n",
    "knn.best_params_, knn.best_score_"
   ]
  },
  {
   "cell_type": "code",
   "execution_count": 73,
   "metadata": {},
   "outputs": [
    {
     "data": {
      "text/plain": [
       "105"
      ]
     },
     "execution_count": 73,
     "metadata": {},
     "output_type": "execute_result"
    }
   ],
   "source": [
    "np.sum([prediction[i]!=prediction[i+1] for i in range(prediction.shape[0]-1)])"
   ]
  },
  {
   "cell_type": "code",
   "execution_count": 74,
   "metadata": {},
   "outputs": [
    {
     "data": {
      "text/plain": [
       "95"
      ]
     },
     "execution_count": 74,
     "metadata": {},
     "output_type": "execute_result"
    }
   ],
   "source": [
    "np.sum([target_test[i]!=target_test[i+1] for i in range(target_test.shape[0]-1)])"
   ]
  },
  {
   "cell_type": "code",
   "execution_count": 92,
   "metadata": {},
   "outputs": [
    {
     "data": {
      "text/plain": [
       "0.10638297872340426"
      ]
     },
     "execution_count": 92,
     "metadata": {},
     "output_type": "execute_result"
    }
   ],
   "source": [
    "5/47"
   ]
  },
  {
   "cell_type": "code",
   "execution_count": 63,
   "metadata": {},
   "outputs": [],
   "source": [
    "prediction = prediction[:,1]>0.5"
   ]
  },
  {
   "cell_type": "code",
   "execution_count": 64,
   "metadata": {},
   "outputs": [
    {
     "name": "stdout",
     "output_type": "stream",
     "text": [
      "              precision    recall  f1-score   support\n",
      "\n",
      "         0.0       0.90      0.52      0.66       586\n",
      "         1.0       0.59      0.93      0.72       438\n",
      "\n",
      "    accuracy                           0.69      1024\n",
      "   macro avg       0.75      0.72      0.69      1024\n",
      "weighted avg       0.77      0.69      0.69      1024\n",
      "\n"
     ]
    }
   ],
   "source": [
    "from sklearn.metrics import classification_report\n",
    "print(classification_report(target_test, prediction))"
   ]
  },
  {
   "cell_type": "code",
   "execution_count": 111,
   "metadata": {},
   "outputs": [
    {
     "data": {
      "text/plain": [
       "GridSearchCV(cv=4, estimator=SVC(cache_size=1000, degree=2), n_jobs=4,\n",
       "             param_grid={'C': array([ 3,  4,  5,  6,  7,  8,  9, 10, 11, 12, 13, 14, 15, 16, 17, 18, 19,\n",
       "       20, 21, 22, 23, 24, 25, 26, 27, 28, 29, 30, 31, 32, 33, 34, 35, 36,\n",
       "       37, 38, 39])},\n",
       "             refit=False, scoring='f1')"
      ]
     },
     "execution_count": 111,
     "metadata": {},
     "output_type": "execute_result"
    }
   ],
   "source": [
    "from sklearn.svm import SVC\n",
    "model_svc = SVC(degree=2,cache_size=1000, kernel= 'rbf')\n",
    "param_svc = {'C':np.arange(3,40,1)}\n",
    "clf_svc = GridSearchCV(model_svc, param_svc,\n",
    "                   scoring='f1',\n",
    "                   refit=False,cv=4, n_jobs=4 )\n",
    "clf_svc.fit(features_f, target)"
   ]
  },
  {
   "cell_type": "code",
   "execution_count": 113,
   "metadata": {},
   "outputs": [
    {
     "data": {
      "text/plain": [
       "(0.6181486905670583, {'C': 3})"
      ]
     },
     "execution_count": 113,
     "metadata": {},
     "output_type": "execute_result"
    }
   ],
   "source": [
    "clf_svc.best_score_, clf_svc.best_params_"
   ]
  },
  {
   "cell_type": "code",
   "execution_count": 117,
   "metadata": {},
   "outputs": [],
   "source": [
    "prediction = SVC(degree=2,cache_size=1000, kernel= 'rbf',C=3).fit(features_f, target).predict(test_f)"
   ]
  },
  {
   "cell_type": "code",
   "execution_count": 118,
   "metadata": {},
   "outputs": [
    {
     "name": "stdout",
     "output_type": "stream",
     "text": [
      "              precision    recall  f1-score   support\n",
      "\n",
      "         0.0       0.84      0.61      0.71       586\n",
      "         1.0       0.62      0.85      0.72       438\n",
      "\n",
      "    accuracy                           0.71      1024\n",
      "   macro avg       0.73      0.73      0.71      1024\n",
      "weighted avg       0.75      0.71      0.71      1024\n",
      "\n"
     ]
    }
   ],
   "source": [
    "print(classification_report(target_test, prediction))"
   ]
  },
  {
   "cell_type": "code",
   "execution_count": 23,
   "metadata": {},
   "outputs": [],
   "source": [
    "\n",
    "x_train, x_test, y_train, y_test = train_test_split(features, target, test_size=0.2, random_state=15)"
   ]
  },
  {
   "cell_type": "code",
   "execution_count": 18,
   "metadata": {},
   "outputs": [],
   "source": [
    "\n",
    "knn = Pipeline(steps=[('scaler', StandardScaler),\n",
    "                      ('classifier', KNeighborsClassifier())])"
   ]
  },
  {
   "cell_type": "code",
   "execution_count": 12,
   "metadata": {},
   "outputs": [
    {
     "data": {
      "text/plain": [
       "(24, 15)"
      ]
     },
     "execution_count": 12,
     "metadata": {},
     "output_type": "execute_result"
    }
   ],
   "source": [
    "ss = StandardScaler()\n",
    "ss.fit_transform(x_train[0]).shape"
   ]
  },
  {
   "cell_type": "code",
   "execution_count": 4,
   "metadata": {},
   "outputs": [
    {
     "name": "stdout",
     "output_type": "stream",
     "text": [
      "              precision    recall  f1-score   support\n",
      "\n",
      "         0.0       0.96      0.96      0.96       224\n",
      "         1.0       0.94      0.94      0.94       165\n",
      "\n",
      "    accuracy                           0.95       389\n",
      "   macro avg       0.95      0.95      0.95       389\n",
      "weighted avg       0.95      0.95      0.95       389\n",
      "\n",
      "              precision    recall  f1-score   support\n",
      "\n",
      "         0.0       0.73      0.75      0.74       224\n",
      "         1.0       0.65      0.63      0.64       165\n",
      "\n",
      "    accuracy                           0.70       389\n",
      "   macro avg       0.69      0.69      0.69       389\n",
      "weighted avg       0.70      0.70      0.70       389\n",
      "\n"
     ]
    }
   ],
   "source": [
    "dg = datagenerator.DataGenerator(1,24,16000)\n",
    "feat, target = dg._get_data('/Users/slowm/OneDrive/Desktop/new_bront/data/wav/clear.wav', '/Users/slowm/OneDrive/Desktop/new_bront/data/marks/clear__mark.txt', True, True)\n",
    "den = dg.features_preporation(datagenerator._from_denis('/Users/slowm/OneDrive/Desktop/new_bront/RES (9).txt'),flat=True)\n",
    "model = KNeighborsClassifier(n_neighbors=3)\n",
    "datagenerator.model_test(model, den, feat, target)"
   ]
  },
  {
   "cell_type": "code",
   "execution_count": 21,
   "metadata": {},
   "outputs": [],
   "source": [
    "import tensorflow as tf"
   ]
  },
  {
   "cell_type": "code",
   "execution_count": 68,
   "metadata": {},
   "outputs": [],
   "source": [
    "model_NN = Sequential()\n",
    "#model_NN.add(Flatten())\n",
    "model_NN.add(Dense(n_mfcc*n_win,keras.activations.relu ))\n",
    "model_NN.add(Dropout(0.4))\n",
    "model_NN.add(Dense(120,keras.activations.relu ))\n",
    "model_NN.add(Dropout(0.4))\n",
    "model_NN.add(Dense(2,keras.activations.softmax ))\n",
    "model_NN.compile(loss= keras.losses.categorical_crossentropy,optimizer = keras.optimizers.adam_v2.Adam(),\n",
    "                 metrics=['acc', tf.keras.metrics.Precision(), tf.keras.metrics.Recall()])"
   ]
  },
  {
   "cell_type": "code",
   "execution_count": 14,
   "metadata": {},
   "outputs": [],
   "source": [
    "new_target = np.array([[x==0, x==1] for x in target])\n"
   ]
  },
  {
   "cell_type": "code",
   "execution_count": 15,
   "metadata": {},
   "outputs": [
    {
     "data": {
      "text/plain": [
       "((12957, 360), (12957, 2))"
      ]
     },
     "execution_count": 15,
     "metadata": {},
     "output_type": "execute_result"
    }
   ],
   "source": [
    "features_f.shape, new_target.shape"
   ]
  },
  {
   "cell_type": "code",
   "execution_count": 78,
   "metadata": {},
   "outputs": [
    {
     "name": "stdout",
     "output_type": "stream",
     "text": [
      "Epoch 1/5\n",
      "203/203 [==============================] - 1s 2ms/step - loss: 0.3096 - acc: 0.8614 - precision_2: 0.8614 - recall_2: 0.8614\n",
      "Epoch 2/5\n",
      "203/203 [==============================] - 0s 2ms/step - loss: 0.2868 - acc: 0.8692 - precision_2: 0.8692 - recall_2: 0.8692\n",
      "Epoch 3/5\n",
      "203/203 [==============================] - 1s 2ms/step - loss: 0.2732 - acc: 0.8788 - precision_2: 0.8788 - recall_2: 0.8788\n",
      "Epoch 4/5\n",
      "203/203 [==============================] - 1s 2ms/step - loss: 0.2675 - acc: 0.8823 - precision_2: 0.8823 - recall_2: 0.8823\n",
      "Epoch 5/5\n",
      "203/203 [==============================] - 0s 2ms/step - loss: 0.2458 - acc: 0.8932 - precision_2: 0.8932 - recall_2: 0.8932\n"
     ]
    },
    {
     "data": {
      "text/plain": [
       "<keras.callbacks.History at 0x2cdc52d6820>"
      ]
     },
     "execution_count": 78,
     "metadata": {},
     "output_type": "execute_result"
    }
   ],
   "source": [
    "model_NN.fit(features_f,new_target, 64,5 )"
   ]
  },
  {
   "cell_type": "code",
   "execution_count": 81,
   "metadata": {},
   "outputs": [
    {
     "name": "stdout",
     "output_type": "stream",
     "text": [
      "              precision    recall  f1-score   support\n",
      "\n",
      "         0.0       0.94      0.49      0.65       586\n",
      "         1.0       0.58      0.96      0.73       438\n",
      "\n",
      "    accuracy                           0.69      1024\n",
      "   macro avg       0.76      0.72      0.69      1024\n",
      "weighted avg       0.79      0.69      0.68      1024\n",
      "\n"
     ]
    }
   ],
   "source": [
    "prediction = model_NN.predict(test_f)\n",
    "prediction = prediction[:,1]>0.5\n",
    "print(classification_report(target_test, prediction))"
   ]
  },
  {
   "cell_type": "code",
   "execution_count": 65,
   "metadata": {},
   "outputs": [
    {
     "data": {
      "text/plain": [
       "(688, (1024,))"
      ]
     },
     "execution_count": 65,
     "metadata": {},
     "output_type": "execute_result"
    }
   ],
   "source": [
    "prediction.sum(), prediction.shape"
   ]
  },
  {
   "cell_type": "code",
   "execution_count": 77,
   "metadata": {},
   "outputs": [
    {
     "data": {
      "text/plain": [
       "94.93670886075951"
      ]
     },
     "execution_count": 77,
     "metadata": {},
     "output_type": "execute_result"
    }
   ],
   "source": [
    "52/(1027*512/16000)*60"
   ]
  },
  {
   "cell_type": "code",
   "execution_count": null,
   "metadata": {},
   "outputs": [],
   "source": []
  },
  {
   "cell_type": "code",
   "execution_count": 48,
   "metadata": {},
   "outputs": [],
   "source": [
    "import librosa\n",
    "x, _ = librosa.load('')"
   ]
  },
  {
   "cell_type": "code",
   "execution_count": 82,
   "metadata": {},
   "outputs": [
    {
     "data": {
      "text/plain": [
       "[<matplotlib.lines.Line2D at 0x2cdc539b2b0>]"
      ]
     },
     "execution_count": 82,
     "metadata": {},
     "output_type": "execute_result"
    },
    {
     "data": {
      "image/png": "[encoded data removed]",
      "text/plain": [
       "<Figure size 1440x720 with 1 Axes>"
      ]
     },
     "metadata": {
      "needs_background": "light"
     },
     "output_type": "display_data"
    }
   ],
   "source": [
    "import matplotlib.pyplot as plt\n",
    "plt.figure(figsize=[20,10])\n",
    "plt.plot(prediction[:300])\n",
    "plt.plot(target_test[:300])"
   ]
  },
  {
   "cell_type": "code",
   "execution_count": 26,
   "metadata": {},
   "outputs": [
    {
     "data": {
      "text/plain": [
       "array([[False,  True],\n",
       "       [False,  True],\n",
       "       [False,  True],\n",
       "       ...,\n",
       "       [False,  True],\n",
       "       [False,  True],\n",
       "       [False,  True]])"
      ]
     },
     "execution_count": 26,
     "metadata": {},
     "output_type": "execute_result"
    }
   ],
   "source": [
    "trg = pd.DataFrame()\n",
    "trg [\"else\"]=target.reshape([-1])==False\n",
    "trg [\"heart_beat\"]=target.reshape([-1])==True\n",
    "np.array(trg )"
   ]
  },
  {
   "cell_type": "code",
   "execution_count": null,
   "metadata": {},
   "outputs": [],
   "source": [
    "import joblib\n",
    "from sklearn.linear_model import LogisticRegression\n",
    "from sklearn.multiclass import OneVsRestClassifier\n",
    "from sklearn.metrics import classification_report\n",
    "trnx, testx, trny, testy = train_test_split(feat,trg, test_size=0.2)\n",
    "\n",
    " # Train multi class classification model and save it to the working directory\n",
    "model = OneVsRestClassifier(LogisticRegression())\n",
    "model.fit(trnx, trny)\n",
    "print(classification_report(testy, model.predict(testx)))\n",
    "joblib.dump(model, \"../models/model.joblib\")\n"
   ]
  },
  {
   "cell_type": "code",
   "execution_count": null,
   "metadata": {},
   "outputs": [],
   "source": [
    "model_NN.fit(feat, trg, batch_size=50,  epochs=300)"
   ]
  },
  {
   "cell_type": "code",
   "execution_count": null,
   "metadata": {},
   "outputs": [],
   "source": [
    "joblib.dump(model_NN,'../models/nn.joblib')"
   ]
  },
  {
   "cell_type": "code",
   "execution_count": 23,
   "metadata": {},
   "outputs": [
    {
     "data": {
      "text/plain": [
       "['nn.h5']"
      ]
     },
     "execution_count": 23,
     "metadata": {},
     "output_type": "execute_result"
    }
   ],
   "source": [
    "os.listdir('../models')"
   ]
  }
 ],
 "metadata": {
  "interpreter": {
   "hash": "e10189f69497984ae32766c8b3b0734fa56fa2267028b6ab7e9da2a4b4a2b777"
  },
  "kernelspec": {
   "display_name": "Python 3.8.10 64-bit (windows store)",
   "name": "python3"
  },
  "language_info": {
   "codemirror_mode": {
    "name": "ipython",
    "version": 3
   },
   "file_extension": ".py",
   "mimetype": "text/x-python",
   "name": "python",
   "nbconvert_exporter": "python",
   "pygments_lexer": "ipython3",
   "version": "3.8.10"
  },
  "orig_nbformat": 4
 },
 "nbformat": 4,
 "nbformat_minor": 2
}
